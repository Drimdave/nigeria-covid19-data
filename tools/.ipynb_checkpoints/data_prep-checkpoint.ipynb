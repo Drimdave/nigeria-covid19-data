{
 "cells": [
  {
   "cell_type": "code",
   "execution_count": 1,
   "metadata": {},
   "outputs": [],
   "source": [
    "# import modules\n",
    "import datetime\n",
    "import numpy as np\n",
    "import pandas as pd\n",
    "import geopandas as gpd\n",
    "import fiona\n",
    "import json"
   ]
  },
  {
   "cell_type": "code",
   "execution_count": 2,
   "metadata": {},
   "outputs": [],
   "source": [
    "# load shapefile data\n",
    "spatial_data = gpd.read_file(\"../data/shp/ncdc-covid19-states.shp\")"
   ]
  },
  {
   "cell_type": "code",
   "execution_count": 3,
   "metadata": {},
   "outputs": [],
   "source": [
    "# calculate number of ACTIVE cases\n",
    "spatial_data['ACTIVE'] = spatial_data['CASES'] - (spatial_data['RECOVERED'] + spatial_data['DEATHS'])"
   ]
  },
  {
   "cell_type": "code",
   "execution_count": 4,
   "metadata": {},
   "outputs": [],
   "source": [
    "# reorder columns\n",
    "spatial_data = spatial_data[[\"OBJECTID\", \"CODE\", \"STATE\", \"ADMIN_NAME\", \"GEO_ZONE\", \"AREA_SQKM\", \"POP_2016\", \"CENTER_Y\", \"CENTER_X\", \"CASES\", \"DEATHS\", \"RECOVERED\", \"SCREENED\", \"ACTIVE\", \"geometry\"]] "
   ]
  },
  {
   "cell_type": "code",
   "execution_count": 5,
   "metadata": {},
   "outputs": [
    {
     "data": {
      "text/html": [
       "<div>\n",
       "<style scoped>\n",
       "    .dataframe tbody tr th:only-of-type {\n",
       "        vertical-align: middle;\n",
       "    }\n",
       "\n",
       "    .dataframe tbody tr th {\n",
       "        vertical-align: top;\n",
       "    }\n",
       "\n",
       "    .dataframe thead th {\n",
       "        text-align: right;\n",
       "    }\n",
       "</style>\n",
       "<table border=\"1\" class=\"dataframe\">\n",
       "  <thead>\n",
       "    <tr style=\"text-align: right;\">\n",
       "      <th></th>\n",
       "      <th>OBJECTID</th>\n",
       "      <th>CODE</th>\n",
       "      <th>STATE</th>\n",
       "      <th>ADMIN_NAME</th>\n",
       "      <th>GEO_ZONE</th>\n",
       "      <th>AREA_SQKM</th>\n",
       "      <th>POP_2016</th>\n",
       "      <th>CENTER_Y</th>\n",
       "      <th>CENTER_X</th>\n",
       "      <th>CASES</th>\n",
       "      <th>DEATHS</th>\n",
       "      <th>RECOVERED</th>\n",
       "      <th>SCREENED</th>\n",
       "      <th>ACTIVE</th>\n",
       "      <th>geometry</th>\n",
       "    </tr>\n",
       "  </thead>\n",
       "  <tbody>\n",
       "    <tr>\n",
       "      <td>0</td>\n",
       "      <td>1</td>\n",
       "      <td>NG001</td>\n",
       "      <td>Abia</td>\n",
       "      <td>Abia State</td>\n",
       "      <td>South East</td>\n",
       "      <td>4858.882335</td>\n",
       "      <td>3644714</td>\n",
       "      <td>5.453302</td>\n",
       "      <td>7.523190</td>\n",
       "      <td>0</td>\n",
       "      <td>0</td>\n",
       "      <td>0</td>\n",
       "      <td>0</td>\n",
       "      <td>0</td>\n",
       "      <td>POLYGON ((7.38681 6.03667, 7.38729 6.03605, 7....</td>\n",
       "    </tr>\n",
       "    <tr>\n",
       "      <td>1</td>\n",
       "      <td>2</td>\n",
       "      <td>NG002</td>\n",
       "      <td>Adamawa</td>\n",
       "      <td>Adamawa State</td>\n",
       "      <td>North East</td>\n",
       "      <td>37924.987860</td>\n",
       "      <td>4145684</td>\n",
       "      <td>9.323227</td>\n",
       "      <td>12.400241</td>\n",
       "      <td>0</td>\n",
       "      <td>0</td>\n",
       "      <td>0</td>\n",
       "      <td>2</td>\n",
       "      <td>0</td>\n",
       "      <td>POLYGON ((13.61319 10.94940, 13.62129 10.94823...</td>\n",
       "    </tr>\n",
       "    <tr>\n",
       "      <td>2</td>\n",
       "      <td>3</td>\n",
       "      <td>NG003</td>\n",
       "      <td>Akwa Ibom</td>\n",
       "      <td>Akwa Ibom State</td>\n",
       "      <td>South South</td>\n",
       "      <td>6723.202769</td>\n",
       "      <td>5353609</td>\n",
       "      <td>4.907245</td>\n",
       "      <td>7.846395</td>\n",
       "      <td>0</td>\n",
       "      <td>0</td>\n",
       "      <td>0</td>\n",
       "      <td>1</td>\n",
       "      <td>0</td>\n",
       "      <td>POLYGON ((7.71063 5.51935, 7.71123 5.51647, 7....</td>\n",
       "    </tr>\n",
       "    <tr>\n",
       "      <td>3</td>\n",
       "      <td>4</td>\n",
       "      <td>NG004</td>\n",
       "      <td>Anambra</td>\n",
       "      <td>Anambra State</td>\n",
       "      <td>South East</td>\n",
       "      <td>4807.933352</td>\n",
       "      <td>5425334</td>\n",
       "      <td>6.222776</td>\n",
       "      <td>6.932186</td>\n",
       "      <td>0</td>\n",
       "      <td>0</td>\n",
       "      <td>0</td>\n",
       "      <td>0</td>\n",
       "      <td>0</td>\n",
       "      <td>POLYGON ((6.93254 6.71090, 6.93167 6.69870, 6....</td>\n",
       "    </tr>\n",
       "    <tr>\n",
       "      <td>4</td>\n",
       "      <td>5</td>\n",
       "      <td>NG005</td>\n",
       "      <td>Bauchi</td>\n",
       "      <td>Bauchi State</td>\n",
       "      <td>North East</td>\n",
       "      <td>48496.400510</td>\n",
       "      <td>6386388</td>\n",
       "      <td>10.796647</td>\n",
       "      <td>9.990588</td>\n",
       "      <td>2</td>\n",
       "      <td>0</td>\n",
       "      <td>0</td>\n",
       "      <td>27</td>\n",
       "      <td>2</td>\n",
       "      <td>POLYGON ((10.70550 12.47328, 10.73164 12.46543...</td>\n",
       "    </tr>\n",
       "  </tbody>\n",
       "</table>\n",
       "</div>"
      ],
      "text/plain": [
       "   OBJECTID   CODE      STATE       ADMIN_NAME     GEO_ZONE     AREA_SQKM  \\\n",
       "0         1  NG001       Abia       Abia State   South East   4858.882335   \n",
       "1         2  NG002    Adamawa    Adamawa State   North East  37924.987860   \n",
       "2         3  NG003  Akwa Ibom  Akwa Ibom State  South South   6723.202769   \n",
       "3         4  NG004    Anambra    Anambra State   South East   4807.933352   \n",
       "4         5  NG005     Bauchi     Bauchi State   North East  48496.400510   \n",
       "\n",
       "   POP_2016   CENTER_Y   CENTER_X  CASES  DEATHS  RECOVERED  SCREENED  ACTIVE  \\\n",
       "0   3644714   5.453302   7.523190      0       0          0         0       0   \n",
       "1   4145684   9.323227  12.400241      0       0          0         2       0   \n",
       "2   5353609   4.907245   7.846395      0       0          0         1       0   \n",
       "3   5425334   6.222776   6.932186      0       0          0         0       0   \n",
       "4   6386388  10.796647   9.990588      2       0          0        27       2   \n",
       "\n",
       "                                            geometry  \n",
       "0  POLYGON ((7.38681 6.03667, 7.38729 6.03605, 7....  \n",
       "1  POLYGON ((13.61319 10.94940, 13.62129 10.94823...  \n",
       "2  POLYGON ((7.71063 5.51935, 7.71123 5.51647, 7....  \n",
       "3  POLYGON ((6.93254 6.71090, 6.93167 6.69870, 6....  \n",
       "4  POLYGON ((10.70550 12.47328, 10.73164 12.46543...  "
      ]
     },
     "execution_count": 5,
     "metadata": {},
     "output_type": "execute_result"
    }
   ],
   "source": [
    "spatial_data.head()"
   ]
  },
  {
   "cell_type": "code",
   "execution_count": 6,
   "metadata": {},
   "outputs": [],
   "source": [
    "# write to shp\n",
    "spatial_data.to_file(\"../data/shp/ncdc-covid19-states.shp\")"
   ]
  },
  {
   "cell_type": "code",
   "execution_count": 7,
   "metadata": {},
   "outputs": [],
   "source": [
    "# write to geojson\n",
    "spatial_data.to_file(\"../data/geojson/ncdc-covid19-states.geojson\", driver='GeoJSON')"
   ]
  },
  {
   "cell_type": "code",
   "execution_count": 8,
   "metadata": {},
   "outputs": [],
   "source": [
    "# write to csv\n",
    "spatial_data.rename(columns={'CENTER_Y':'LAT', 'CENTER_X':'LONG'}, inplace=True)\n",
    "spatial_data.drop('geometry',axis=1).to_csv(\"../data/csv/ncdc-covid19-states.csv\") "
   ]
  },
  {
   "cell_type": "code",
   "execution_count": 9,
   "metadata": {},
   "outputs": [],
   "source": [
    "# write to json\n",
    "states_csv_data = pd.read_csv(\"../data/csv/ncdc-covid19-states.csv\", index_col=0)\n",
    "states_csv_data.to_json(\"../data/json/ncdc-covid19-states.json\", orient='records')"
   ]
  },
  {
   "cell_type": "code",
   "execution_count": 10,
   "metadata": {},
   "outputs": [],
   "source": [
    "# load timeseries csv data\n",
    "timeseries_csv_data = pd.read_csv(\"../data/csv/ncdc-covid19-dailyupdates.csv\")\n",
    "timeseries_csv_data.to_json(\"../data/json/ncdc-covid19-dailyupdates.json\", orient='records', date_format = 'iso')"
   ]
  },
  {
   "cell_type": "code",
   "execution_count": null,
   "metadata": {},
   "outputs": [],
   "source": []
  }
 ],
 "metadata": {
  "kernelspec": {
   "display_name": "Python 3",
   "language": "python",
   "name": "python3"
  },
  "language_info": {
   "codemirror_mode": {
    "name": "ipython",
    "version": 3
   },
   "file_extension": ".py",
   "mimetype": "text/x-python",
   "name": "python",
   "nbconvert_exporter": "python",
   "pygments_lexer": "ipython3",
   "version": "3.7.4"
  }
 },
 "nbformat": 4,
 "nbformat_minor": 2
}
